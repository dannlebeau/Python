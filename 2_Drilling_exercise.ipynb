{
  "nbformat": 4,
  "nbformat_minor": 0,
  "metadata": {
    "colab": {
      "provenance": [],
      "authorship_tag": "ABX9TyNy9sJvZpsE3e6KthU3v4tt",
      "include_colab_link": true
    },
    "kernelspec": {
      "name": "python3",
      "display_name": "Python 3"
    },
    "language_info": {
      "name": "python"
    }
  },
  "cells": [
    {
      "cell_type": "markdown",
      "metadata": {
        "id": "view-in-github",
        "colab_type": "text"
      },
      "source": [
        "<a href=\"https://colab.research.google.com/github/dannlebeau/Python/blob/main/2_Drilling_exercise.ipynb\" target=\"_parent\"><img src=\"https://colab.research.google.com/assets/colab-badge.svg\" alt=\"Open In Colab\"/></a>"
      ]
    },
    {
      "cell_type": "code",
      "execution_count": 1,
      "metadata": {
        "id": "DhME0AO9b9d4"
      },
      "outputs": [],
      "source": [
        "class Persona:\n",
        "    def __init__(self, nombre, apellidos, sexo, edad, estatura, peso):\n",
        "        self.nombre = nombre\n",
        "        self.apellidos = apellidos\n",
        "        self.sexo = sexo\n",
        "        self.edad = edad\n",
        "        self.estatura = estatura\n",
        "        self.peso = peso"
      ]
    },
    {
      "cell_type": "code",
      "source": [
        "    # Métodos get\n",
        "    def getNombre(self):\n",
        "        return self.nombre\n",
        "\n",
        "    def getApellidos(self):\n",
        "        return self.apellidos\n",
        "\n",
        "    def getSexo(self):\n",
        "        return self.sexo\n",
        "\n",
        "    def getEdad(self):\n",
        "        return self.edad\n",
        "\n",
        "    def getEstatura(self):\n",
        "        return self.estatura\n",
        "\n",
        "    def getPeso(self):\n",
        "        return self.peso\n",
        "        # Métodos set\n",
        "    def setNombre(self, nombre):\n",
        "        self.nombre = nombre\n",
        "\n",
        "    def setApellidos(self, apellidos):\n",
        "        self.apellidos = apellidos\n",
        "\n",
        "    def setSexo(self, sexo):\n",
        "        self.sexo = sexo\n",
        "\n",
        "    def setEdad(self, edad):\n",
        "        self.edad = edad\n",
        "\n",
        "    def setEstatura(self, estatura):\n",
        "        self.estatura = estatura\n",
        "\n",
        "    def setPeso(self, peso):\n",
        "        self.peso = peso"
      ],
      "metadata": {
        "id": "uOcdl4EYcWhO"
      },
      "execution_count": 7,
      "outputs": []
    },
    {
      "cell_type": "code",
      "source": [
        "# Crear instancia de Persona_1\n",
        "persona_1 = Persona(\"Pedro\", \"Vivas\", \"Masculino\", 20, 1.78, 68)\n",
        "\n",
        "# Crear instancia de Persona_2\n",
        "persona_2 = Persona(\"Juan\", \"Camargo\", \"Masculino\", 18, 1.8, 75)"
      ],
      "metadata": {
        "id": "nrge5kg6cWna"
      },
      "execution_count": 8,
      "outputs": []
    },
    {
      "cell_type": "code",
      "source": [
        "# Modificar edad de Persona_1 a 21 años\n",
        "persona_1.setEdad(21)\n",
        "\n",
        "# Modificar apellido de Persona_2 a \"Santiago\"\n",
        "persona_2.setApellidos(\"Santiago\")"
      ],
      "metadata": {
        "id": "hM6_70EOcWqU"
      },
      "execution_count": 9,
      "outputs": []
    },
    {
      "cell_type": "code",
      "source": [
        "# Mostrar las actualizaciones a Persona_1\n",
        "print(\"Persona_1:\")\n",
        "print(\"Nombre:\", persona_1.getNombre())\n",
        "print(\"Apellidos:\", persona_1.getApellidos())\n",
        "print(\"Sexo:\", persona_1.getSexo())\n",
        "print(\"Edad:\", persona_1.getEdad())\n",
        "print(\"Estatura:\", persona_1.getEstatura())\n",
        "print(\"Peso:\", persona_1.getPeso())\n",
        "print()"
      ],
      "metadata": {
        "colab": {
          "base_uri": "https://localhost:8080/"
        },
        "id": "aN8nODKTcWtA",
        "outputId": "8589f43a-651e-4137-d5e5-ec110ed1b0d6"
      },
      "execution_count": 10,
      "outputs": [
        {
          "output_type": "stream",
          "name": "stdout",
          "text": [
            "Persona_1:\n",
            "Nombre: Pedro\n",
            "Apellidos: Vivas\n",
            "Sexo: Masculino\n",
            "Edad: 21\n",
            "Estatura: 1.78\n",
            "Peso: 68\n",
            "\n"
          ]
        }
      ]
    },
    {
      "cell_type": "code",
      "source": [
        "# Mostrar las actualizaciones a Persona_2\n",
        "print(\"Persona_2:\")\n",
        "print(\"Nombre:\", persona_2.getNombre())\n",
        "print(\"Apellidos:\", persona_2.getApellidos())\n",
        "print(\"Sexo:\", persona_2.getSexo())\n",
        "print(\"Edad:\", persona_2.getEdad())\n",
        "print(\"Estatura:\", persona_2.getEstatura())\n",
        "print(\"Peso:\", persona_2.getPeso())"
      ],
      "metadata": {
        "colab": {
          "base_uri": "https://localhost:8080/"
        },
        "id": "EzkHbVvucWvs",
        "outputId": "5d25f7d2-3e4a-487d-d2b4-e91505e27d88"
      },
      "execution_count": 11,
      "outputs": [
        {
          "output_type": "stream",
          "name": "stdout",
          "text": [
            "Persona_2:\n",
            "Nombre: Juan\n",
            "Apellidos: Santiago\n",
            "Sexo: Masculino\n",
            "Edad: 18\n",
            "Estatura: 1.8\n",
            "Peso: 75\n"
          ]
        }
      ]
    }
  ]
}