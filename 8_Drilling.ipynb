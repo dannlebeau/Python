{
  "nbformat": 4,
  "nbformat_minor": 0,
  "metadata": {
    "colab": {
      "provenance": [],
      "authorship_tag": "ABX9TyOYpXWRB7JdXRj3mHFfufwX"
    },
    "kernelspec": {
      "name": "python3",
      "display_name": "Python 3"
    },
    "language_info": {
      "name": "python"
    }
  },
  "cells": [
    {
      "cell_type": "code",
      "execution_count": 2,
      "metadata": {
        "colab": {
          "base_uri": "https://localhost:8080/"
        },
        "id": "-vtG3JloQcqg",
        "outputId": "aea47ba1-8686-469b-cd59-819a584a2f96"
      },
      "outputs": [
        {
          "output_type": "stream",
          "name": "stdout",
          "text": [
            "El archivo se ha creado exitosamente.\n"
          ]
        }
      ],
      "source": [
        "#Ejercicio Anterior\n",
        "nombre_archivo = \"informacion.dat\"\n",
        "\n",
        "try:\n",
        "    # Intenta abrir el archivo en modo lectura para verificar si existe\n",
        "    with open(nombre_archivo, \"r\") as archivo:\n",
        "        # Si el archivo existe, muestra un mensaje\n",
        "        print(\"El archivo ya ha sido creado previamente.\")\n",
        "except FileNotFoundError:\n",
        "    # Si el archivo no existe, lo crea y escribe los datos de información\n",
        "    with open(nombre_archivo, \"w\") as archivo:\n",
        "        datos_informacion = [\n",
        "            \"Datos de información en la línea 1\",\n",
        "            \"Datos de información en la línea 2\",\n",
        "            \"Datos de información en la línea 3\",\n",
        "            \"Datos de información en la línea 4\",\n",
        "            \"Datos de información en la línea 5\"\n",
        "        ]\n",
        "        archivo.write(\"\\n\".join(datos_informacion))\n",
        "        print(\"El archivo se ha creado exitosamente.\")\n",
        "\n"
      ]
    },
    {
      "cell_type": "code",
      "source": [
        "#si se ejecuta primera la funcion 2 que la 1 dice que no existe nada; si es al reves sale el mensaje que se indica abajo\n",
        "def leer_archivo_informacion():\n",
        "    nombre_archivo = \"informacion.dat\"\n",
        "\n",
        "    try:\n",
        "        # Intenta abrir el archivo en modo lectura\n",
        "        with open(nombre_archivo, \"r\") as archivo:\n",
        "            # Lee el contenido del archivo\n",
        "            contenido = archivo.read()\n",
        "            # Muestra el mensaje de que el archivo ya existe\n",
        "            print(\"El archivo informacion.dat ya existe, ha sido creado previamente\")\n",
        "            # Muestra el contenido del archivo\n",
        "            print(contenido)\n",
        "    except FileNotFoundError:\n",
        "        # Si el archivo no existe, muestra un mensaje de error\n",
        "        print(\"El archivo informacion.dat no ha sido creado todavía.\")\n",
        "\n",
        "\n",
        "# Llamada a la función\n",
        "leer_archivo_informacion()\n"
      ],
      "metadata": {
        "colab": {
          "base_uri": "https://localhost:8080/"
        },
        "id": "K7KwPNaIQgGe",
        "outputId": "889cc5fa-f136-42f4-dc1e-102b9a53c80d"
      },
      "execution_count": 3,
      "outputs": [
        {
          "output_type": "stream",
          "name": "stdout",
          "text": [
            "El archivo informacion.dat ya existe, ha sido creado previamente\n",
            "Datos de información en la línea 1\n",
            "Datos de información en la línea 2\n",
            "Datos de información en la línea 3\n",
            "Datos de información en la línea 4\n",
            "Datos de información en la línea 5\n"
          ]
        }
      ]
    }
  ]
}