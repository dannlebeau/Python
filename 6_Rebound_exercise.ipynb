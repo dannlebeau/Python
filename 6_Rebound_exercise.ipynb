{
  "nbformat": 4,
  "nbformat_minor": 0,
  "metadata": {
    "colab": {
      "provenance": [],
      "authorship_tag": "ABX9TyNJe2/SE9JZ2j6Ab1+bDrRd"
    },
    "kernelspec": {
      "name": "python3",
      "display_name": "Python 3"
    },
    "language_info": {
      "name": "python"
    }
  },
  "cells": [
    {
      "cell_type": "code",
      "execution_count": 3,
      "metadata": {
        "colab": {
          "base_uri": "https://localhost:8080/"
        },
        "id": "QfOXvJtBraOl",
        "outputId": "00297a7e-e172-462f-f605-2cb4e49ab773"
      },
      "outputs": [
        {
          "output_type": "stream",
          "name": "stdout",
          "text": [
            "División por cero.\n"
          ]
        }
      ],
      "source": [
        "suma = 3000\n",
        "contador = 0\n",
        "\n",
        "try:\n",
        "    resultado = suma / contador\n",
        "    print(\"El resultado de la división es:\", resultado)\n",
        "except ZeroDivisionError:\n",
        "    print(\"División por cero.\")\n"
      ]
    },
    {
      "cell_type": "code",
      "source": [
        "suma = 3000\n",
        "contador = 3\n",
        "\n",
        "try:\n",
        "    resultado = suma / contador\n",
        "    print(\"El resultado de la división es:\", resultado)\n",
        "except ZeroDivisionError:\n",
        "    print(\"División por cero.\")"
      ],
      "metadata": {
        "colab": {
          "base_uri": "https://localhost:8080/"
        },
        "id": "EpPLc2VCrvWi",
        "outputId": "396a291f-ec5c-4bcd-fea5-a24fda4215cf"
      },
      "execution_count": 4,
      "outputs": [
        {
          "output_type": "stream",
          "name": "stdout",
          "text": [
            "El resultado de la división es: 1000.0\n"
          ]
        }
      ]
    }
  ]
}