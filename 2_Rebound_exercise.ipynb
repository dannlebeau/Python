{
  "nbformat": 4,
  "nbformat_minor": 0,
  "metadata": {
    "colab": {
      "provenance": [],
      "authorship_tag": "ABX9TyOajVIryj4VMbFl2QzbSlo0"
    },
    "kernelspec": {
      "name": "python3",
      "display_name": "Python 3"
    },
    "language_info": {
      "name": "python"
    }
  },
  "cells": [
    {
      "cell_type": "code",
      "execution_count": 1,
      "metadata": {
        "id": "pEbcBCaUbEqL"
      },
      "outputs": [],
      "source": [
        "class Animal:\n",
        "    def __init__(self, nombre, raza, edad, peso):\n",
        "        self.nombre = nombre\n",
        "        self.raza = raza\n",
        "        self.edad = edad\n",
        "        self.peso = peso"
      ]
    },
    {
      "cell_type": "code",
      "source": [
        "# Crear instancia de un caballo\n",
        "caballo = Animal(\"Zeus\", \"Pura sangre\", \"5 años\", \"450 kg\")"
      ],
      "metadata": {
        "id": "U9tknwD2bME0"
      },
      "execution_count": 2,
      "outputs": []
    },
    {
      "cell_type": "code",
      "source": [
        "# Crear instancia de un león\n",
        "leon = Animal(\"Boulder\", \"Atlas\", \"10 años\", \"130 kg\")"
      ],
      "metadata": {
        "id": "9bKWCSjubMHt"
      },
      "execution_count": 3,
      "outputs": []
    },
    {
      "cell_type": "code",
      "source": [
        "# Imprimir las características del caballo\n",
        "print(\"Caballo:\")\n",
        "print(\"Nombre:\", caballo.nombre)\n",
        "print(\"Raza:\", caballo.raza)\n",
        "print(\"Edad:\", caballo.edad)\n",
        "print(\"Peso:\", caballo.peso)\n",
        "print()"
      ],
      "metadata": {
        "colab": {
          "base_uri": "https://localhost:8080/"
        },
        "id": "euuiDpyZbPIw",
        "outputId": "bb958e22-2906-4164-f183-f4bb168fd583"
      },
      "execution_count": 4,
      "outputs": [
        {
          "output_type": "stream",
          "name": "stdout",
          "text": [
            "Caballo:\n",
            "Nombre: Zeus\n",
            "Raza: Pura sangre\n",
            "Edad: 5 años\n",
            "Peso: 450 kg\n",
            "\n"
          ]
        }
      ]
    },
    {
      "cell_type": "code",
      "source": [
        "# Imprimir las características del Leon\n",
        "print(\"León:\")\n",
        "print(\"Nombre:\", leon.nombre)\n",
        "print(\"Raza:\", leon.raza)\n",
        "print(\"Edad:\", leon.edad)\n",
        "print(\"Peso:\", leon.peso)\n"
      ],
      "metadata": {
        "colab": {
          "base_uri": "https://localhost:8080/"
        },
        "id": "Ojbacg2qbRLL",
        "outputId": "1667cc9b-5187-4321-fcf7-cce9d26c78d6"
      },
      "execution_count": 5,
      "outputs": [
        {
          "output_type": "stream",
          "name": "stdout",
          "text": [
            "León:\n",
            "Nombre: Boulder\n",
            "Raza: Atlas\n",
            "Edad: 10 años\n",
            "Peso: 130 kg\n"
          ]
        }
      ]
    }
  ]
}