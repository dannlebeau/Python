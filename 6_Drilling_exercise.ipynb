{
  "nbformat": 4,
  "nbformat_minor": 0,
  "metadata": {
    "colab": {
      "provenance": [],
      "authorship_tag": "ABX9TyN3hBDXge2s1d1vNNI5bH0S"
    },
    "kernelspec": {
      "name": "python3",
      "display_name": "Python 3"
    },
    "language_info": {
      "name": "python"
    }
  },
  "cells": [
    {
      "cell_type": "code",
      "execution_count": 1,
      "metadata": {
        "colab": {
          "base_uri": "https://localhost:8080/"
        },
        "id": "ONnDnLhtsIJE",
        "outputId": "01a795a2-19d7-47cb-838e-f12adfaf7f53"
      },
      "outputs": [
        {
          "output_type": "stream",
          "name": "stdout",
          "text": [
            "La clave 004 no está en el diccionario. Añadiendo clave...\n",
            "Diccionario de usuarios: {'001': 'Marca', '002': 'Mónica', '003': 'Jacob', '004': 'Ninguno'}\n"
          ]
        }
      ],
      "source": [
        "usuarios = {'001': 'Marca', '002': 'Mónica', '003': 'Jacob'}\n",
        "id_usuario = '004'\n",
        "\n",
        "try:\n",
        "    valor = usuarios[id_usuario]\n",
        "    print(\"El valor de la clave\", id_usuario, \"es:\", valor)\n",
        "except KeyError:\n",
        "    print(\"La clave\", id_usuario, \"no está en el diccionario. Añadiendo clave...\")\n",
        "    usuarios[id_usuario] = \"Ninguno\"\n",
        "\n",
        "print(\"Diccionario de usuarios:\", usuarios)\n"
      ]
    }
  ]
}