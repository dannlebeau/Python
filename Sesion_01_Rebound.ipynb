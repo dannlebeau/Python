{
  "nbformat": 4,
  "nbformat_minor": 0,
  "metadata": {
    "colab": {
      "provenance": [],
      "authorship_tag": "ABX9TyO96ErnzhCfmHURI38cIsqK"
    },
    "kernelspec": {
      "name": "python3",
      "display_name": "Python 3"
    },
    "language_info": {
      "name": "python"
    }
  },
  "cells": [
    {
      "cell_type": "code",
      "execution_count": 1,
      "metadata": {
        "id": "PnX88g-myMvu"
      },
      "outputs": [],
      "source": [
        "class Animal:\n",
        "    def __init__(self, nombre, raza, edad, peso):\n",
        "        self.nombre = nombre\n",
        "        self.raza = raza\n",
        "        self.edad = edad\n",
        "        self.peso = peso\n",
        "    \n",
        "    def comer(self):\n",
        "        print(f\"{self.nombre} está comiendo.\")\n",
        "\n",
        "    def caminar(self):\n",
        "        print(f\"{self.nombre} está caminando.\")\n",
        "\n",
        "    def dormir(self):\n",
        "        print(f\"{self.nombre} está durmiendo.\")"
      ]
    },
    {
      "cell_type": "code",
      "source": [
        "# Instancias de Perro y Gato\n",
        "perro = Animal(\"Brando\", \"San Bernardo\", 3, 30)\n",
        "gato = Animal(\"Roll\", \"Persa\", 4, 3)\n"
      ],
      "metadata": {
        "id": "ZJKhlww3zZfa"
      },
      "execution_count": 2,
      "outputs": []
    },
    {
      "cell_type": "code",
      "source": [
        "# Ejemplos \n",
        "perro.comer()\n",
        "perro.caminar()\n",
        "perro.dormir()\n",
        "\n",
        "gato.comer()\n",
        "gato.caminar()\n",
        "gato.dormir()"
      ],
      "metadata": {
        "colab": {
          "base_uri": "https://localhost:8080/"
        },
        "id": "szUwUOR9z_oC",
        "outputId": "60f235a4-e135-4d65-f081-65dcc3401c77"
      },
      "execution_count": 3,
      "outputs": [
        {
          "output_type": "stream",
          "name": "stdout",
          "text": [
            "Brando está comiendo.\n",
            "Brando está caminando.\n",
            "Brando está durmiendo.\n",
            "Roll está comiendo.\n",
            "Roll está caminando.\n",
            "Roll está durmiendo.\n"
          ]
        }
      ]
    },
    {
      "cell_type": "code",
      "source": [
        "#Datos Perro\n",
        "perro.nombre, perro.raza, perro.edad, perro.peso"
      ],
      "metadata": {
        "colab": {
          "base_uri": "https://localhost:8080/"
        },
        "id": "-z0T2xWo0JIy",
        "outputId": "792a6c81-e676-415c-e7a4-b2aa092dad51"
      },
      "execution_count": 9,
      "outputs": [
        {
          "output_type": "execute_result",
          "data": {
            "text/plain": [
              "('Brando', 'San Bernardo', 3, 30)"
            ]
          },
          "metadata": {},
          "execution_count": 9
        }
      ]
    },
    {
      "cell_type": "code",
      "source": [
        "#Datos Gato\n",
        "gato.nombre, gato.raza, gato.edad, gato.peso"
      ],
      "metadata": {
        "colab": {
          "base_uri": "https://localhost:8080/"
        },
        "id": "1TREgEWsU77i",
        "outputId": "9d3df4bd-f9eb-40ea-faff-19ae16dd3867"
      },
      "execution_count": 10,
      "outputs": [
        {
          "output_type": "execute_result",
          "data": {
            "text/plain": [
              "('Roll', 'Persa', 4, 3)"
            ]
          },
          "metadata": {},
          "execution_count": 10
        }
      ]
    }
  ]
}