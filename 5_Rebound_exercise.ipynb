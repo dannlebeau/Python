{
  "nbformat": 4,
  "nbformat_minor": 0,
  "metadata": {
    "colab": {
      "provenance": [],
      "authorship_tag": "ABX9TyMnPlqDksmcRhSD7Ft1d745",
      "include_colab_link": true
    },
    "kernelspec": {
      "name": "python3",
      "display_name": "Python 3"
    },
    "language_info": {
      "name": "python"
    }
  },
  "cells": [
    {
      "cell_type": "markdown",
      "metadata": {
        "id": "view-in-github",
        "colab_type": "text"
      },
      "source": [
        "<a href=\"https://colab.research.google.com/github/dannlebeau/Python/blob/main/5_Rebound_exercise.ipynb\" target=\"_parent\"><img src=\"https://colab.research.google.com/assets/colab-badge.svg\" alt=\"Open In Colab\"/></a>"
      ]
    },
    {
      "cell_type": "code",
      "execution_count": 2,
      "metadata": {
        "id": "Zw21jemTng-l"
      },
      "outputs": [],
      "source": [
        "class A:\n",
        "    def __init__(self):\n",
        "        print(\"Pertenezco a la clase A\")\n",
        "\n",
        "    def metodo_a(self):\n",
        "        print(\"Método heredado de A\")\n",
        "\n",
        "\n",
        "class B(A):\n",
        "    def __init__(self):\n",
        "        super().__init__()\n",
        "        print(\"Clase B\")\n",
        "\n",
        "    def metodo_b(self):\n",
        "        print(\"Método heredado de B\")"
      ]
    },
    {
      "cell_type": "code",
      "source": [
        "#Creo que esto esta demas pero no estoy seguro\n",
        "class C(B, A):\n",
        "    def __init__(self):\n",
        "        super().__init__()\n",
        "\n",
        "    def metodo_c(self):\n",
        "        print(\"Método de clase C\")\n"
      ],
      "metadata": {
        "id": "Zf_N-pXPnmG9"
      },
      "execution_count": 3,
      "outputs": []
    },
    {
      "cell_type": "code",
      "source": [
        "class C(B, A):\n",
        "    def __init__(self):\n",
        "        super().__init__()\n",
        "        print(\"Clase C\")\n",
        "\n",
        "    def metodo_c(self):\n",
        "        print(\"Método de clase C\")\n"
      ],
      "metadata": {
        "id": "S6tByapsoigD"
      },
      "execution_count": 4,
      "outputs": []
    },
    {
      "cell_type": "code",
      "source": [
        "objeto_c = C()\n",
        "objeto_c.metodo_a()  # Salida: Método heredado de A\n",
        "objeto_c.metodo_b()  # Salida: Método heredado de B\n",
        "objeto_c.metodo_c()  # Salida: Método de clase C\n"
      ],
      "metadata": {
        "colab": {
          "base_uri": "https://localhost:8080/"
        },
        "id": "FeThBiG3o4S6",
        "outputId": "9580a751-fff1-40ec-e628-6ad2cc2d0755"
      },
      "execution_count": 5,
      "outputs": [
        {
          "output_type": "stream",
          "name": "stdout",
          "text": [
            "Pertenezco a la clase A\n",
            "Clase B\n",
            "Clase C\n",
            "Método heredado de A\n",
            "Método heredado de B\n",
            "Método de clase C\n"
          ]
        }
      ]
    }
  ]
}