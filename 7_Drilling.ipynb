{
  "nbformat": 4,
  "nbformat_minor": 0,
  "metadata": {
    "colab": {
      "provenance": [],
      "authorship_tag": "ABX9TyNLwWDUL7Dcjsvh/CdWgdZc"
    },
    "kernelspec": {
      "name": "python3",
      "display_name": "Python 3"
    },
    "language_info": {
      "name": "python"
    }
  },
  "cells": [
    {
      "cell_type": "code",
      "execution_count": 1,
      "metadata": {
        "id": "VcqA_qvmNFxa"
      },
      "outputs": [],
      "source": [
        "class SalarioFueraDeRango(Exception):\n",
        "    def __init__(self, salario):\n",
        "        self.salario = salario\n",
        "        self.mensaje = f\"El salario ({self.salario}) no se encuentra en el rango de 1000 y 2000.\"\n",
        "        super().__init__(self.mensaje)"
      ]
    },
    {
      "cell_type": "code",
      "source": [
        "def ingresar_salario():\n",
        "    salario = float(input(\"Ingrese su salario: \"))\n",
        "    if salario < 1000 or salario > 2000:\n",
        "        raise SalarioFueraDeRango(salario)\n",
        "    else:\n",
        "        print(\"Salario válido.\")"
      ],
      "metadata": {
        "id": "Zly0z6AUNJBh"
      },
      "execution_count": 2,
      "outputs": []
    },
    {
      "cell_type": "code",
      "source": [
        "# Ejemplo\n",
        "try:\n",
        "    ingresar_salario()\n",
        "except SalarioFueraDeRango as e:\n",
        "    print(e.mensaje)"
      ],
      "metadata": {
        "colab": {
          "base_uri": "https://localhost:8080/"
        },
        "id": "-2ea-LaQNJFg",
        "outputId": "87ea6771-40f6-4e74-93a2-33d3ea7a0667"
      },
      "execution_count": 4,
      "outputs": [
        {
          "output_type": "stream",
          "name": "stdout",
          "text": [
            "Ingrese su salario: 1500\n",
            "Salario válido.\n"
          ]
        }
      ]
    }
  ]
}