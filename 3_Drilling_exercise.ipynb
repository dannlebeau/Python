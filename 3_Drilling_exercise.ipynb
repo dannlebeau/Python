{
  "nbformat": 4,
  "nbformat_minor": 0,
  "metadata": {
    "colab": {
      "provenance": [],
      "authorship_tag": "ABX9TyPwQvK0E+dRautXAyfdJJRg"
    },
    "kernelspec": {
      "name": "python3",
      "display_name": "Python 3"
    },
    "language_info": {
      "name": "python"
    }
  },
  "cells": [
    {
      "cell_type": "code",
      "execution_count": 1,
      "metadata": {
        "id": "vcaLzLjPhzs_"
      },
      "outputs": [],
      "source": [
        "class Banco:\n",
        "    def __init__(self, nombre, codigo, direccion):\n",
        "        self.nombre = nombre\n",
        "        self.codigo = codigo\n",
        "        self.direccion = direccion"
      ]
    },
    {
      "cell_type": "code",
      "source": [
        "class Cliente:\n",
        "    def __init__(self, nombre, direccion, identificacion):\n",
        "        self.nombre = nombre\n",
        "        self.direccion = direccion\n",
        "        self.identificacion = identificacion"
      ],
      "metadata": {
        "id": "LQNzU0Ngh3Un"
      },
      "execution_count": 2,
      "outputs": []
    },
    {
      "cell_type": "code",
      "source": [
        "class Cuenta:\n",
        "    def __init__(self, numero_cuenta, titular, saldo):\n",
        "        self.numero_cuenta = numero_cuenta\n",
        "        self.titular = titular\n",
        "        self.saldo = saldo\n",
        "\n",
        "    def depositar(self, monto):\n",
        "        self.saldo += monto\n",
        "\n",
        "    def consultar_saldo(self):\n",
        "        return self.saldo"
      ],
      "metadata": {
        "id": "Om1ZQfg8h3Xc"
      },
      "execution_count": 3,
      "outputs": []
    },
    {
      "cell_type": "code",
      "source": [
        "class CuentaAhorro(Cuenta):\n",
        "    def __init__(self, numero_cuenta, titular, saldo, cantidad_retiros):\n",
        "        super().__init__(numero_cuenta, titular, saldo)\n",
        "        self.cantidad_retiros = cantidad_retiros\n"
      ],
      "metadata": {
        "id": "BO48o_bRh3aV"
      },
      "execution_count": 4,
      "outputs": []
    },
    {
      "cell_type": "code",
      "source": [
        "class CuentaCorriente(Cuenta):\n",
        "    def __init__(self, numero_cuenta, titular, saldo, limite_retiros, saldo_limite):\n",
        "        super().__init__(numero_cuenta, titular, saldo)\n",
        "        self.limite_retiros = limite_retiros\n",
        "        self.saldo_limite = saldo_limite\n",
        "\n",
        "    def realizar_retiro(self, monto):\n",
        "        if monto <= self.saldo_limite:\n",
        "            self.saldo -= monto\n",
        "        else:\n",
        "            print(\"No se puede realizar el retiro, excede el límite\")\n"
      ],
      "metadata": {
        "id": "Be14kamfh3dT"
      },
      "execution_count": 5,
      "outputs": []
    },
    {
      "cell_type": "code",
      "source": [
        "# Ejemplo \n",
        "banco = Banco(\"Mi Banco\", \"123\", \"Calle Principal\")\n",
        "cliente = Cliente(\"Juan\", \"Calle Secundaria\", \"456789\")\n",
        "cuenta_ahorro = CuentaAhorro(\"001\", cliente, 1000, 3)\n",
        "cuenta_corriente = CuentaCorriente(\"002\", cliente, 2000, 5, -1000)\n",
        "\n",
        "print(banco.nombre)\n",
        "print(cliente.nombre)\n",
        "print(cuenta_ahorro.consultar_saldo())\n",
        "print(cuenta_corriente.consultar_saldo())\n",
        "\n",
        "cuenta_ahorro.depositar(500)\n",
        "cuenta_corriente.realizar_retiro(1500)\n",
        "\n",
        "print(cuenta_ahorro.consultar_saldo())\n",
        "print(cuenta_corriente.consultar_saldo())"
      ],
      "metadata": {
        "colab": {
          "base_uri": "https://localhost:8080/"
        },
        "id": "jLkjRT2Ch3hB",
        "outputId": "c1d606c4-6fe6-440e-f93c-45b7735bfda7"
      },
      "execution_count": 6,
      "outputs": [
        {
          "output_type": "stream",
          "name": "stdout",
          "text": [
            "Mi Banco\n",
            "Juan\n",
            "1000\n",
            "2000\n",
            "No se puede realizar el retiro, excede el límite\n",
            "1500\n",
            "2000\n"
          ]
        }
      ]
    },
    {
      "cell_type": "code",
      "source": [],
      "metadata": {
        "id": "zV_Mr7Kkh3ij"
      },
      "execution_count": null,
      "outputs": []
    }
  ]
}