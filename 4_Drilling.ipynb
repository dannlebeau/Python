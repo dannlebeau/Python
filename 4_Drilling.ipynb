{
  "nbformat": 4,
  "nbformat_minor": 0,
  "metadata": {
    "colab": {
      "provenance": [],
      "authorship_tag": "ABX9TyORwbnDb7tfT28yIM75f0Kc",
      "include_colab_link": true
    },
    "kernelspec": {
      "name": "python3",
      "display_name": "Python 3"
    },
    "language_info": {
      "name": "python"
    }
  },
  "cells": [
    {
      "cell_type": "markdown",
      "metadata": {
        "id": "view-in-github",
        "colab_type": "text"
      },
      "source": [
        "<a href=\"https://colab.research.google.com/github/dannlebeau/Python/blob/main/4_Drilling.ipynb\" target=\"_parent\"><img src=\"https://colab.research.google.com/assets/colab-badge.svg\" alt=\"Open In Colab\"/></a>"
      ]
    },
    {
      "cell_type": "code",
      "execution_count": 1,
      "metadata": {
        "id": "pP0FZyVGl1Si"
      },
      "outputs": [],
      "source": [
        "class Persona:\n",
        "    def __init__(self, nombre):\n",
        "        self.nombre = nombre\n",
        "    \n",
        "    def movimiento(self):\n",
        "        return \"caminando\"\n",
        "\n",
        "class Maratonista(Persona):\n",
        "    def movimiento(self):\n",
        "        return \"trotando\"\n",
        "\n",
        "class Ciclista(Persona):\n",
        "    def movimiento(self):\n",
        "        return \"rodando\"\n"
      ]
    },
    {
      "cell_type": "code",
      "source": [
        "persona = Persona(\"Xarles\")\n",
        "maratonista = Maratonista(\"Matthew\")\n",
        "ciclista = Ciclista(\"Madison\")\n",
        "\n",
        "print(persona.nombre, persona.movimiento())\n",
        "print(maratonista.nombre, maratonista.movimiento())\n",
        "print(ciclista.nombre, ciclista.movimiento())\n"
      ],
      "metadata": {
        "colab": {
          "base_uri": "https://localhost:8080/"
        },
        "id": "-weCby8wl6cP",
        "outputId": "a810d439-4e36-429c-c9b5-8c8df95a08cc"
      },
      "execution_count": 2,
      "outputs": [
        {
          "output_type": "stream",
          "name": "stdout",
          "text": [
            "Xarles caminando\n",
            "Matthew trotando\n",
            "Madison rodando\n"
          ]
        }
      ]
    },
    {
      "cell_type": "code",
      "source": [],
      "metadata": {
        "id": "JC0Uqni8l6fR"
      },
      "execution_count": null,
      "outputs": []
    }
  ]
}