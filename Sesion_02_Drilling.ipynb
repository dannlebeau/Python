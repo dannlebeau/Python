{
  "nbformat": 4,
  "nbformat_minor": 0,
  "metadata": {
    "colab": {
      "provenance": [],
      "authorship_tag": "ABX9TyMI0PefEZoSTPbEQNeYOqWM",
      "include_colab_link": true
    },
    "kernelspec": {
      "name": "python3",
      "display_name": "Python 3"
    },
    "language_info": {
      "name": "python"
    }
  },
  "cells": [
    {
      "cell_type": "markdown",
      "metadata": {
        "id": "view-in-github",
        "colab_type": "text"
      },
      "source": [
        "<a href=\"https://colab.research.google.com/github/dannlebeau/Python/blob/main/Sesion_02_Drilling.ipynb\" target=\"_parent\"><img src=\"https://colab.research.google.com/assets/colab-badge.svg\" alt=\"Open In Colab\"/></a>"
      ]
    },
    {
      "cell_type": "code",
      "execution_count": 1,
      "metadata": {
        "id": "pymYPAj7WXcP"
      },
      "outputs": [],
      "source": [
        "class IntegranteSeleccion:\n",
        "    def __init__(self, id, nombre, apellidos, edad):\n",
        "        self.id = id\n",
        "        self.nombre = nombre\n",
        "        self.apellidos = apellidos\n",
        "        self.edad = edad\n",
        "    \n",
        "    def concentrarse(self):\n",
        "        print(f\"{self.nombre} {self.apellidos} se está concentrando.\")\n",
        "    \n",
        "    def viajar(self):\n",
        "        print(f\"{self.nombre} {self.apellidos} está viajando.\")"
      ]
    },
    {
      "cell_type": "code",
      "source": [
        "class Futbolista(IntegranteSeleccion):\n",
        "    def __init__(self, id, nombre, apellidos, edad, dorsal, demarcacion):\n",
        "        super().__init__(id, nombre, apellidos, edad)\n",
        "        self.dorsal = dorsal\n",
        "        self.demarcacion = demarcacion\n",
        "    \n",
        "    def jugarPartido(self):\n",
        "        print(f\"{self.nombre} {self.apellidos} está jugando el partido.\")\n",
        "    \n",
        "    def entrenar(self):\n",
        "        print(f\"{self.nombre} {self.apellidos} está entrenando.\")"
      ],
      "metadata": {
        "id": "HGr5xATHX6Mh"
      },
      "execution_count": 2,
      "outputs": []
    },
    {
      "cell_type": "code",
      "source": [
        "class Entrenador(IntegranteSeleccion):\n",
        "    def __init__(self, id, nombre, apellidos, edad, idFederacion):\n",
        "        super().__init__(id, nombre, apellidos, edad)\n",
        "        self.idFederacion = idFederacion\n",
        "    \n",
        "    def dirigirPartido(self):\n",
        "        print(f\"{self.nombre} {self.apellidos} está dirigiendo el partido.\")\n",
        "    \n",
        "    def dirigirEntrenamiento(self):\n",
        "        print(f\"{self.nombre} {self.apellidos} está dirigiendo el entrenamiento.\")"
      ],
      "metadata": {
        "id": "dzdJBx5oX6cL"
      },
      "execution_count": 3,
      "outputs": []
    },
    {
      "cell_type": "code",
      "source": [
        "class Masajista(IntegranteSeleccion):\n",
        "    def __init__(self, id, nombre, apellidos, edad, titulacion, annosExperiencia):\n",
        "        super().__init__(id, nombre, apellidos, edad)\n",
        "        self.titulacion = titulacion\n",
        "        self.annosExperiencia = annosExperiencia\n",
        "    \n",
        "    def darMasajes(self):\n",
        "        print(f\"{self.nombre} {self.apellidos} está dando masajes.\")"
      ],
      "metadata": {
        "id": "8fVbADFqX6h1"
      },
      "execution_count": 4,
      "outputs": []
    },
    {
      "cell_type": "code",
      "source": [
        "# Ejemplo\n",
        "futbolista = Futbolista(1, \"Lionel\", \"Messi\", 34, 10, \"Delantero\")\n",
        "futbolista.concentrarse()\n",
        "futbolista.viajar()\n",
        "futbolista.jugarPartido()\n",
        "futbolista.entrenar()"
      ],
      "metadata": {
        "colab": {
          "base_uri": "https://localhost:8080/"
        },
        "id": "sVXJBLLyYA10",
        "outputId": "a0f31fec-5c6f-4dbe-bc72-48b5336653d2"
      },
      "execution_count": 5,
      "outputs": [
        {
          "output_type": "stream",
          "name": "stdout",
          "text": [
            "Lionel Messi se está concentrando.\n",
            "Lionel Messi está viajando.\n",
            "Lionel Messi está jugando el partido.\n",
            "Lionel Messi está entrenando.\n"
          ]
        }
      ]
    },
    {
      "cell_type": "code",
      "source": [
        "entrenador = Entrenador(2, \"Pep\", \"Guardiola\", 50, \"123ABC\")\n",
        "entrenador.concentrarse()\n",
        "entrenador.viajar()\n",
        "entrenador.dirigirPartido()\n",
        "entrenador.dirigirEntrenamiento()"
      ],
      "metadata": {
        "colab": {
          "base_uri": "https://localhost:8080/"
        },
        "id": "IWNQwyKYZFiC",
        "outputId": "77f2745a-e59f-4c0b-f65b-3eb7b1450ae3"
      },
      "execution_count": 6,
      "outputs": [
        {
          "output_type": "stream",
          "name": "stdout",
          "text": [
            "Pep Guardiola se está concentrando.\n",
            "Pep Guardiola está viajando.\n",
            "Pep Guardiola está dirigiendo el partido.\n",
            "Pep Guardiola está dirigiendo el entrenamiento.\n"
          ]
        }
      ]
    },
    {
      "cell_type": "code",
      "source": [
        "masajista = Masajista(3, \"Juan\", \"Pérez\", 40, \"Licenciado en Fisioterapia\", 15)\n",
        "masajista.concentrarse()\n",
        "masajista.viajar()\n",
        "masajista.darMasajes()"
      ],
      "metadata": {
        "colab": {
          "base_uri": "https://localhost:8080/"
        },
        "id": "HXUs-hTnZFli",
        "outputId": "f6643ca0-6d22-418a-857d-ba2d3313b094"
      },
      "execution_count": 7,
      "outputs": [
        {
          "output_type": "stream",
          "name": "stdout",
          "text": [
            "Juan Pérez se está concentrando.\n",
            "Juan Pérez está viajando.\n",
            "Juan Pérez está dando masajes.\n"
          ]
        }
      ]
    }
  ]
}