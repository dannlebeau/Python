{
  "nbformat": 4,
  "nbformat_minor": 0,
  "metadata": {
    "colab": {
      "provenance": [],
      "authorship_tag": "ABX9TyMPTnz5FNe1o7aRmzgU3QJk"
    },
    "kernelspec": {
      "name": "python3",
      "display_name": "Python 3"
    },
    "language_info": {
      "name": "python"
    }
  },
  "cells": [
    {
      "cell_type": "code",
      "execution_count": 2,
      "metadata": {
        "colab": {
          "base_uri": "https://localhost:8080/"
        },
        "id": "sYO8KkigL2eU",
        "outputId": "d6bbcf0b-019a-44b8-93b4-7a20e331bf4a"
      },
      "outputs": [
        {
          "output_type": "stream",
          "name": "stdout",
          "text": [
            "Ingrese su edad: 15\n",
            "Usted no es un adulto.\n"
          ]
        }
      ],
      "source": [
        "while True:\n",
        "    try:\n",
        "        edad = int(input(\"Ingrese su edad: \"))\n",
        "        if edad >= 18:\n",
        "            print(\"Usted es un adulto.\")\n",
        "        else:\n",
        "            print(\"Usted no es un adulto.\")\n",
        "        break\n",
        "    except ValueError:\n",
        "        print(\"Error: Debe ingresar un número entero. Por favor, intente nuevamente.\")\n"
      ]
    }
  ]
}