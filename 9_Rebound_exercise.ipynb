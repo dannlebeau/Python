{
  "nbformat": 4,
  "nbformat_minor": 0,
  "metadata": {
    "colab": {
      "provenance": [],
      "authorship_tag": "ABX9TyOc81mDUXSimK0pVeFVQar4"
    },
    "kernelspec": {
      "name": "python3",
      "display_name": "Python 3"
    },
    "language_info": {
      "name": "python"
    }
  },
  "cells": [
    {
      "cell_type": "code",
      "execution_count": 1,
      "metadata": {
        "id": "6UDr632PS6H3"
      },
      "outputs": [],
      "source": [
        "def agregar_contenido_archivo():\n",
        "    nombre_archivo = \"informacion.dat\"\n",
        "\n",
        "    contenido_agregar = \"\"\"Hola Mundo\n",
        "Este en una nueva línea en el archivo\n",
        "agregando la segunda línea del archivo\n",
        "finalizando la línea agregada\"\"\"\n",
        "\n",
        "    try:\n",
        "        with open(nombre_archivo, \"a\") as archivo:\n",
        "            archivo.write(\"\\n\" + contenido_agregar)\n",
        "        print(\"Contenido agregado correctamente al archivo.\")\n",
        "    except IOError:\n",
        "        print(\"Error al abrir o escribir en el archivo.\")"
      ]
    },
    {
      "cell_type": "code",
      "source": [
        "# Llamada a la función\n",
        "agregar_contenido_archivo()"
      ],
      "metadata": {
        "colab": {
          "base_uri": "https://localhost:8080/"
        },
        "id": "AtkU2NS1TDDe",
        "outputId": "62224f5b-4802-48f4-a08c-495f4972744e"
      },
      "execution_count": 2,
      "outputs": [
        {
          "output_type": "stream",
          "name": "stdout",
          "text": [
            "Contenido agregado correctamente al archivo.\n"
          ]
        }
      ]
    }
  ]
}