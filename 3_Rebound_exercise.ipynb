{
  "nbformat": 4,
  "nbformat_minor": 0,
  "metadata": {
    "colab": {
      "provenance": [],
      "authorship_tag": "ABX9TyP7tqeEWOFTTXr7OwxkbOhr"
    },
    "kernelspec": {
      "name": "python3",
      "display_name": "Python 3"
    },
    "language_info": {
      "name": "python"
    }
  },
  "cells": [
    {
      "cell_type": "code",
      "execution_count": 1,
      "metadata": {
        "id": "YadLvKG-gHjM"
      },
      "outputs": [],
      "source": [
        "class Persona:\n",
        "    def __init__(self, id, nombre, apellido):\n",
        "        self.id = id\n",
        "        self.nombre = nombre\n",
        "        self.apellido = apellido\n",
        "\n",
        "    def obtener_datos(self):\n",
        "        return f\"ID: {self.id}, Nombre: {self.nombre}, Apellido: {self.apellido}\""
      ]
    },
    {
      "cell_type": "code",
      "source": [
        "class Estudiante(Persona):\n",
        "    def __init__(self, id, nombre, apellido, codigo_alumno, matricula):\n",
        "        super().__init__(id, nombre, apellido)\n",
        "        self.codigo_alumno = codigo_alumno\n",
        "        self.matricula = matricula\n",
        "\n",
        "    def obtener_datos(self):\n",
        "        datos_persona = super().obtener_datos()\n",
        "        return f\"{datos_persona}, Código de Alumno: {self.codigo_alumno}, Matrícula: {self.matricula}\""
      ],
      "metadata": {
        "id": "2ZD1XkD8gM4r"
      },
      "execution_count": 2,
      "outputs": []
    },
    {
      "cell_type": "code",
      "source": [
        "# Ejemplo\n",
        "persona = Persona(1, \"Alexis\", \"Sanchez\")\n",
        "estudiante = Estudiante(2, \"Bruce\", \"Wayne\", \"123456\", \"2023-2024\")\n",
        "\n",
        "print(persona.obtener_datos())\n",
        "print(estudiante.obtener_datos())"
      ],
      "metadata": {
        "colab": {
          "base_uri": "https://localhost:8080/"
        },
        "id": "3UjM_rvVgM71",
        "outputId": "59d4c43d-239f-4be1-d291-e1ee5cd1eebc"
      },
      "execution_count": 4,
      "outputs": [
        {
          "output_type": "stream",
          "name": "stdout",
          "text": [
            "ID: 1, Nombre: Alexis, Apellido: Sanchez\n",
            "ID: 2, Nombre: Bruce, Apellido: Wayne, Código de Alumno: 123456, Matrícula: 2023-2024\n"
          ]
        }
      ]
    },
    {
      "cell_type": "code",
      "source": [],
      "metadata": {
        "id": "t5qVb5yKgNEz"
      },
      "execution_count": null,
      "outputs": []
    }
  ]
}