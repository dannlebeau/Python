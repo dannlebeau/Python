{
  "nbformat": 4,
  "nbformat_minor": 0,
  "metadata": {
    "colab": {
      "provenance": [],
      "authorship_tag": "ABX9TyM6RiKU07Os8mlqceXPga8b"
    },
    "kernelspec": {
      "name": "python3",
      "display_name": "Python 3"
    },
    "language_info": {
      "name": "python"
    }
  },
  "cells": [
    {
      "cell_type": "code",
      "execution_count": 1,
      "metadata": {
        "id": "ADj_Fyy8phOp"
      },
      "outputs": [],
      "source": [
        "class Persona:\n",
        "    def __init__(self, nombre, apellido, anno):\n",
        "        self.nombre = nombre\n",
        "        self.apellido = apellido\n",
        "        self.anno = anno"
      ]
    },
    {
      "cell_type": "code",
      "source": [
        "class Departamento:\n",
        "    def __init__(self, nombre_dpto, nombre_corto_dpto):\n",
        "        self.nombre_dpto = nombre_dpto\n",
        "        self.nombre_corto_dpto = nombre_corto_dpto"
      ],
      "metadata": {
        "id": "9jXMCX8oplcQ"
      },
      "execution_count": 2,
      "outputs": []
    },
    {
      "cell_type": "code",
      "source": [
        "class Trabajador(Persona, Departamento):\n",
        "    def __init__(self, nombre, apellido, anno, nombre_dpto, nombre_corto_dpto, salario):\n",
        "        super().__init__(nombre, apellido, anno)\n",
        "        Departamento.__init__(self, nombre_dpto, nombre_corto_dpto)\n",
        "        self.salario = salario"
      ],
      "metadata": {
        "id": "tVenDBWuplfq"
      },
      "execution_count": 3,
      "outputs": []
    },
    {
      "cell_type": "code",
      "source": [
        "# Crear objeto trabajador con los datos proporcionados\n",
        "trabajador = Trabajador(\"Juan\", \"Pérez\", 2005, \"Ingeniería de software\", \"IS\", 20000)\n",
        "\n",
        "print(trabajador.__dict__)"
      ],
      "metadata": {
        "colab": {
          "base_uri": "https://localhost:8080/"
        },
        "id": "UEu_LZP6pqUa",
        "outputId": "4bc180ea-ee7f-474b-97cf-244e0f7a9e4f"
      },
      "execution_count": 4,
      "outputs": [
        {
          "output_type": "stream",
          "name": "stdout",
          "text": [
            "{'nombre': 'Juan', 'apellido': 'Pérez', 'anno': 2005, 'nombre_dpto': 'Ingeniería de software', 'nombre_corto_dpto': 'IS', 'salario': 20000}\n"
          ]
        }
      ]
    },
    {
      "cell_type": "code",
      "source": [
        "print(\"Es trabajador instancia de Persona:\", isinstance(trabajador, Persona))\n",
        "print(\"Es trabajador instancia de Departamento:\", isinstance(trabajador, Departamento))\n",
        "print(\"Es trabajador instancia de Trabajador:\", isinstance(trabajador, Trabajador))\n"
      ],
      "metadata": {
        "colab": {
          "base_uri": "https://localhost:8080/"
        },
        "id": "ZiRsYXB1qB60",
        "outputId": "77ca2bc7-ee71-4447-f4ff-3c2ff8cc1c3a"
      },
      "execution_count": 5,
      "outputs": [
        {
          "output_type": "stream",
          "name": "stdout",
          "text": [
            "Es trabajador instancia de Persona: True\n",
            "Es trabajador instancia de Departamento: True\n",
            "Es trabajador instancia de Trabajador: True\n"
          ]
        }
      ]
    }
  ]
}