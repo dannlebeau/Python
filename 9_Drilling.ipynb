{
  "nbformat": 4,
  "nbformat_minor": 0,
  "metadata": {
    "colab": {
      "provenance": [],
      "authorship_tag": "ABX9TyPN8xa0UDYVZ6445PGS7R7T"
    },
    "kernelspec": {
      "name": "python3",
      "display_name": "Python 3"
    },
    "language_info": {
      "name": "python"
    }
  },
  "cells": [
    {
      "cell_type": "code",
      "execution_count": 1,
      "metadata": {
        "id": "MKd-DfDeTnbo"
      },
      "outputs": [],
      "source": [
        "#Ejercicio Anterior\n",
        "def agregar_contenido_archivo():\n",
        "    nombre_archivo = \"informacion.dat\"\n",
        "\n",
        "    contenido_agregar = \"\"\"Hola Mundo\n",
        "Este en una nueva línea en el archivo\n",
        "agregando la segunda línea del archivo\n",
        "finalizando la línea agregada\"\"\"\n",
        "\n",
        "    try:\n",
        "        with open(nombre_archivo, \"a\") as archivo:\n",
        "            archivo.write(\"\\n\" + contenido_agregar)\n",
        "        print(\"Contenido agregado correctamente al archivo.\")\n",
        "    except IOError:\n",
        "        print(\"Error al abrir o escribir en el archivo.\")"
      ]
    },
    {
      "cell_type": "code",
      "source": [
        "# Llamada a la función\n",
        "agregar_contenido_archivo()"
      ],
      "metadata": {
        "colab": {
          "base_uri": "https://localhost:8080/"
        },
        "id": "8ueXyRqaTtT-",
        "outputId": "00a23a29-005d-498b-a94d-d2767e93d129"
      },
      "execution_count": 2,
      "outputs": [
        {
          "output_type": "stream",
          "name": "stdout",
          "text": [
            "Contenido agregado correctamente al archivo.\n"
          ]
        }
      ]
    },
    {
      "cell_type": "code",
      "source": [
        "#Continuacion de ejercicio\n",
        "def reemplazar_contenido_archivo():\n",
        "    nombre_archivo = \"informacion.dat\"\n",
        "\n",
        "    contenido_reemplazar = \"Datos de información\"\n",
        "    contenido_nuevo = \"Datos de Procesamiento\"\n",
        "\n",
        "    reemplazos_realizados = 0\n",
        "\n",
        "    try:\n",
        "        with open(nombre_archivo, \"r\") as archivo:\n",
        "            lineas = archivo.readlines()\n",
        "\n",
        "        with open(nombre_archivo, \"w\") as archivo:\n",
        "            for linea in lineas:\n",
        "                if contenido_reemplazar in linea:\n",
        "                    linea = linea.replace(contenido_reemplazar, contenido_nuevo)\n",
        "                    reemplazos_realizados += 1\n",
        "                archivo.write(linea)     \n",
        "                print(\"Se realizaron:\", reemplazos_realizados, \"reemplazos\")\n",
        "\n",
        "        with open(nombre_archivo, \"r\") as archivo:\n",
        "            contenido_actualizado = archivo.read()\n",
        "        print(\"El contenido del archivo\", nombre_archivo, \"es:\\n\", contenido_actualizado)\n",
        "\n",
        "    except IOError:\n",
        "        print(\"Error al abrir o escribir en el archivo.\") "
      ],
      "metadata": {
        "id": "j451ClClTvjV"
      },
      "execution_count": 4,
      "outputs": []
    },
    {
      "cell_type": "code",
      "source": [
        "# Llamada a la función\n",
        "reemplazar_contenido_archivo()"
      ],
      "metadata": {
        "colab": {
          "base_uri": "https://localhost:8080/"
        },
        "id": "1-23NuQGT162",
        "outputId": "c602c519-230b-4f44-d8b3-fa023041f436"
      },
      "execution_count": 5,
      "outputs": [
        {
          "output_type": "stream",
          "name": "stdout",
          "text": [
            "Se realizaron: 0 reemplazos\n",
            "Se realizaron: 0 reemplazos\n",
            "Se realizaron: 0 reemplazos\n",
            "Se realizaron: 0 reemplazos\n",
            "Se realizaron: 0 reemplazos\n",
            "El contenido del archivo informacion.dat es:\n",
            " \n",
            "Hola Mundo\n",
            "Este en una nueva línea en el archivo\n",
            "agregando la segunda línea del archivo\n",
            "finalizando la línea agregada\n"
          ]
        }
      ]
    }
  ]
}