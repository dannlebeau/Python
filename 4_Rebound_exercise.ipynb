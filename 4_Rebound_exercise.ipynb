{
  "nbformat": 4,
  "nbformat_minor": 0,
  "metadata": {
    "colab": {
      "provenance": [],
      "authorship_tag": "ABX9TyNi5VbnKN5r4mSkmRf0gvig"
    },
    "kernelspec": {
      "name": "python3",
      "display_name": "Python 3"
    },
    "language_info": {
      "name": "python"
    }
  },
  "cells": [
    {
      "cell_type": "code",
      "execution_count": 1,
      "metadata": {
        "id": "adYr9fKgk7dA"
      },
      "outputs": [],
      "source": [
        "class Libro:\n",
        "    pass"
      ]
    },
    {
      "cell_type": "code",
      "source": [
        "# Paso 1: Crear instancias de la clase Libro y asignar atributos de instancia\n",
        "libro_1 = Libro()\n",
        "libro_1.autor = 'Dan Brown'\n",
        "libro_1.titulo = 'Infierno'\n",
        "\n",
        "libro_2 = Libro()\n",
        "libro_2.autor = 'Dan Brown'\n",
        "libro_2.titulo = 'El Código Da Vinci'\n",
        "libro_2.year_of_publishment = 2003"
      ],
      "metadata": {
        "id": "_RhOpNFilAOt"
      },
      "execution_count": 4,
      "outputs": []
    },
    {
      "cell_type": "code",
      "source": [
        "# Paso 2: Imprimir el valor del atributo __dict__ de libro_1 y libro_2\n",
        "print(libro_1.__dict__)\n",
        "print(libro_2.__dict__)"
      ],
      "metadata": {
        "colab": {
          "base_uri": "https://localhost:8080/"
        },
        "id": "dWii1HgAlARx",
        "outputId": "bab85e8c-db8d-45ba-bbb3-b365bfb8b2fb"
      },
      "execution_count": 5,
      "outputs": [
        {
          "output_type": "stream",
          "name": "stdout",
          "text": [
            "{'autor': 'Dan Brown', 'titulo': 'Infierno'}\n",
            "{'autor': 'Dan Brown', 'titulo': 'El Código Da Vinci', 'year_of_publishment': 2003}\n"
          ]
        }
      ]
    }
  ]
}