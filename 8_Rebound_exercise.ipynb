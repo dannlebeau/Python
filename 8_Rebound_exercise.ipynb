{
  "nbformat": 4,
  "nbformat_minor": 0,
  "metadata": {
    "colab": {
      "provenance": [],
      "authorship_tag": "ABX9TyPbCpc6c2VYOA0IuZm70jgy"
    },
    "kernelspec": {
      "name": "python3",
      "display_name": "Python 3"
    },
    "language_info": {
      "name": "python"
    }
  },
  "cells": [
    {
      "cell_type": "code",
      "execution_count": 1,
      "metadata": {
        "colab": {
          "base_uri": "https://localhost:8080/"
        },
        "id": "cnTLrl3_P1qj",
        "outputId": "127b5362-37e5-48a8-ca17-c763cc0fd9bc"
      },
      "outputs": [
        {
          "output_type": "stream",
          "name": "stdout",
          "text": [
            "El archivo se ha creado exitosamente.\n"
          ]
        }
      ],
      "source": [
        "nombre_archivo = \"informacion.dat\"\n",
        "\n",
        "try:\n",
        "    # Intenta abrir el archivo en modo lectura para verificar si existe\n",
        "    with open(nombre_archivo, \"r\") as archivo:\n",
        "        # Si el archivo existe, muestra un mensaje\n",
        "        print(\"El archivo ya ha sido creado previamente.\")\n",
        "except FileNotFoundError:\n",
        "    # Si el archivo no existe, lo crea y escribe los datos de información\n",
        "    with open(nombre_archivo, \"w\") as archivo:\n",
        "        datos_informacion = [\n",
        "            \"Datos de información en la línea 1\",\n",
        "            \"Datos de información en la línea 2\",\n",
        "            \"Datos de información en la línea 3\",\n",
        "            \"Datos de información en la línea 4\",\n",
        "            \"Datos de información en la línea 5\"\n",
        "        ]\n",
        "        archivo.write(\"\\n\".join(datos_informacion))\n",
        "        print(\"El archivo se ha creado exitosamente.\")"
      ]
    }
  ]
}